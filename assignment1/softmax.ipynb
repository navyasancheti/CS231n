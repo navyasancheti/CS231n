{
  "nbformat": 4,
  "nbformat_minor": 0,
  "metadata": {
    "kernelspec": {
      "display_name": "Python 3",
      "language": "python",
      "name": "python3"
    },
    "language_info": {
      "codemirror_mode": {
        "name": "ipython",
        "version": 3
      },
      "file_extension": ".py",
      "mimetype": "text/x-python",
      "name": "python",
      "nbconvert_exporter": "python",
      "pygments_lexer": "ipython3",
      "version": "3.7.6"
    },
    "colab": {
      "name": "softmax.ipynb",
      "provenance": []
    },
    "accelerator": "GPU"
  },
  "cells": [
    {
      "cell_type": "markdown",
      "metadata": {
        "tags": [
          "pdf-title"
        ],
        "id": "CgRaBIiL0JQT",
        "colab_type": "text"
      },
      "source": [
        "# Softmax exercise\n",
        "\n",
        "*Complete and hand in this completed worksheet (including its outputs and any supporting code outside of the worksheet) with your assignment submission. For more details see the [assignments page](http://vision.stanford.edu/teaching/cs231n/assignments.html) on the course website.*\n",
        "\n",
        "This exercise is analogous to the SVM exercise. You will:\n",
        "\n",
        "- implement a fully-vectorized **loss function** for the Softmax classifier\n",
        "- implement the fully-vectorized expression for its **analytic gradient**\n",
        "- **check your implementation** with numerical gradient\n",
        "- use a validation set to **tune the learning rate and regularization** strength\n",
        "- **optimize** the loss function with **SGD**\n",
        "- **visualize** the final learned weights\n"
      ]
    },
    {
      "cell_type": "code",
      "metadata": {
        "tags": [
          "pdf-ignore"
        ],
        "id": "fDTy1QbJ0JQV",
        "colab_type": "code",
        "colab": {}
      },
      "source": [
        "import random\n",
        "import numpy as np\n",
        "from cs231n.data_utils import load_CIFAR10\n",
        "import matplotlib.pyplot as plt\n",
        "\n",
        "%matplotlib inline\n",
        "plt.rcParams['figure.figsize'] = (10.0, 8.0) # set default size of plots\n",
        "plt.rcParams['image.interpolation'] = 'nearest'\n",
        "plt.rcParams['image.cmap'] = 'gray'\n",
        "\n",
        "# for auto-reloading extenrnal modules\n",
        "# see http://stackoverflow.com/questions/1907993/autoreload-of-modules-in-ipython\n",
        "%load_ext autoreload\n",
        "%autoreload 2"
      ],
      "execution_count": null,
      "outputs": []
    },
    {
      "cell_type": "code",
      "metadata": {
        "id": "UqLj6_W40lYK",
        "colab_type": "code",
        "colab": {
          "base_uri": "https://localhost:8080/",
          "height": 353
        },
        "outputId": "5cec9e83-5030-4e64-ace0-c83441aec131"
      },
      "source": [
        "!wget http://www.cs.toronto.edu/~kriz/cifar-10-python.tar.gz\n",
        "!tar -xzvf cifar-10-python.tar.gz\n",
        "!rm cifar-10-python.tar.gz"
      ],
      "execution_count": null,
      "outputs": [
        {
          "output_type": "stream",
          "text": [
            "--2020-07-09 18:24:35--  http://www.cs.toronto.edu/~kriz/cifar-10-python.tar.gz\n",
            "Resolving www.cs.toronto.edu (www.cs.toronto.edu)... 128.100.3.30\n",
            "Connecting to www.cs.toronto.edu (www.cs.toronto.edu)|128.100.3.30|:80... connected.\n",
            "HTTP request sent, awaiting response... 200 OK\n",
            "Length: 170498071 (163M) [application/x-gzip]\n",
            "Saving to: ‘cifar-10-python.tar.gz’\n",
            "\n",
            "cifar-10-python.tar 100%[===================>] 162.60M  16.3MB/s    in 11s     \n",
            "\n",
            "2020-07-09 18:24:47 (14.2 MB/s) - ‘cifar-10-python.tar.gz’ saved [170498071/170498071]\n",
            "\n",
            "cifar-10-batches-py/\n",
            "cifar-10-batches-py/data_batch_4\n",
            "cifar-10-batches-py/readme.html\n",
            "cifar-10-batches-py/test_batch\n",
            "cifar-10-batches-py/data_batch_3\n",
            "cifar-10-batches-py/batches.meta\n",
            "cifar-10-batches-py/data_batch_2\n",
            "cifar-10-batches-py/data_batch_5\n",
            "cifar-10-batches-py/data_batch_1\n"
          ],
          "name": "stdout"
        }
      ]
    },
    {
      "cell_type": "code",
      "metadata": {
        "tags": [
          "pdf-ignore"
        ],
        "id": "PHvMBmV40JQY",
        "colab_type": "code",
        "colab": {
          "base_uri": "https://localhost:8080/",
          "height": 151
        },
        "outputId": "5db5b64f-0c87-4fd7-d24d-2a8ee83ea022"
      },
      "source": [
        "def get_CIFAR10_data(num_training=49000, num_validation=1000, num_test=1000, num_dev=500):\n",
        "    \"\"\"\n",
        "    Load the CIFAR-10 dataset from disk and perform preprocessing to prepare\n",
        "    it for the linear classifier. These are the same steps as we used for the\n",
        "    SVM, but condensed to a single function.  \n",
        "    \"\"\"\n",
        "    # Load the raw CIFAR-10 data\n",
        "    cifar10_dir = 'cifar-10-batches-py'\n",
        "    \n",
        "    # Cleaning up variables to prevent loading data multiple times (which may cause memory issue)\n",
        "    try:\n",
        "       del X_train, y_train\n",
        "       del X_test, y_test\n",
        "       print('Clear previously loaded data.')\n",
        "    except:\n",
        "       pass\n",
        "\n",
        "    X_train, y_train, X_test, y_test = load_CIFAR10(cifar10_dir)\n",
        "    \n",
        "    # subsample the data\n",
        "    mask = list(range(num_training, num_training + num_validation))\n",
        "    X_val = X_train[mask]\n",
        "    y_val = y_train[mask]\n",
        "    mask = list(range(num_training))\n",
        "    X_train = X_train[mask]\n",
        "    y_train = y_train[mask]\n",
        "    mask = list(range(num_test))\n",
        "    X_test = X_test[mask]\n",
        "    y_test = y_test[mask]\n",
        "    mask = np.random.choice(num_training, num_dev, replace=False)\n",
        "    X_dev = X_train[mask]\n",
        "    y_dev = y_train[mask]\n",
        "    \n",
        "    # Preprocessing: reshape the image data into rows\n",
        "    X_train = np.reshape(X_train, (X_train.shape[0], -1))\n",
        "    X_val = np.reshape(X_val, (X_val.shape[0], -1))\n",
        "    X_test = np.reshape(X_test, (X_test.shape[0], -1))\n",
        "    X_dev = np.reshape(X_dev, (X_dev.shape[0], -1))\n",
        "    \n",
        "    # Normalize the data: subtract the mean image\n",
        "    mean_image = np.mean(X_train, axis = 0)\n",
        "    X_train -= mean_image\n",
        "    X_val -= mean_image\n",
        "    X_test -= mean_image\n",
        "    X_dev -= mean_image\n",
        "    \n",
        "    # add bias dimension and transform into columns\n",
        "    X_train = np.hstack([X_train, np.ones((X_train.shape[0], 1))])\n",
        "    X_val = np.hstack([X_val, np.ones((X_val.shape[0], 1))])\n",
        "    X_test = np.hstack([X_test, np.ones((X_test.shape[0], 1))])\n",
        "    X_dev = np.hstack([X_dev, np.ones((X_dev.shape[0], 1))])\n",
        "    \n",
        "    return X_train, y_train, X_val, y_val, X_test, y_test, X_dev, y_dev\n",
        "\n",
        "\n",
        "# Invoke the above function to get our data.\n",
        "X_train, y_train, X_val, y_val, X_test, y_test, X_dev, y_dev = get_CIFAR10_data()\n",
        "print('Train data shape: ', X_train.shape)\n",
        "print('Train labels shape: ', y_train.shape)\n",
        "print('Validation data shape: ', X_val.shape)\n",
        "print('Validation labels shape: ', y_val.shape)\n",
        "print('Test data shape: ', X_test.shape)\n",
        "print('Test labels shape: ', y_test.shape)\n",
        "print('dev data shape: ', X_dev.shape)\n",
        "print('dev labels shape: ', y_dev.shape)"
      ],
      "execution_count": null,
      "outputs": [
        {
          "output_type": "stream",
          "text": [
            "Train data shape:  (49000, 3073)\n",
            "Train labels shape:  (49000,)\n",
            "Validation data shape:  (1000, 3073)\n",
            "Validation labels shape:  (1000,)\n",
            "Test data shape:  (1000, 3073)\n",
            "Test labels shape:  (1000,)\n",
            "dev data shape:  (500, 3073)\n",
            "dev labels shape:  (500,)\n"
          ],
          "name": "stdout"
        }
      ]
    },
    {
      "cell_type": "markdown",
      "metadata": {
        "id": "eDxC16PR0JQb",
        "colab_type": "text"
      },
      "source": [
        "## Softmax Classifier\n",
        "\n",
        "Your code for this section will all be written inside `cs231n/classifiers/softmax.py`.\n"
      ]
    },
    {
      "cell_type": "code",
      "metadata": {
        "id": "iACggRfx0JQb",
        "colab_type": "code",
        "colab": {
          "base_uri": "https://localhost:8080/",
          "height": 50
        },
        "outputId": "fcd31a63-55a2-4aa2-9323-ada11a71cf6a"
      },
      "source": [
        "# First implement the naive softmax loss function with nested loops.\n",
        "# Open the file cs231n/classifiers/softmax.py and implement the\n",
        "# softmax_loss_naive function.\n",
        "\n",
        "from cs231n.classifiers.softmax import softmax_loss_naive\n",
        "import time\n",
        "\n",
        "# Generate a random softmax weight matrix and use it to compute the loss.\n",
        "W = np.random.randn(3073, 10) * 0.0001\n",
        "loss, grad = softmax_loss_naive(W, X_dev, y_dev, 0.0)\n",
        "\n",
        "# As a rough sanity check, our loss should be something close to -log(0.1).\n",
        "print('loss: %f' % loss)\n",
        "print('sanity check: %f' % (-np.log(0.1)))"
      ],
      "execution_count": null,
      "outputs": [
        {
          "output_type": "stream",
          "text": [
            "loss: 2.323282\n",
            "sanity check: 2.302585\n"
          ],
          "name": "stdout"
        }
      ]
    },
    {
      "cell_type": "markdown",
      "metadata": {
        "tags": [
          "pdf-inline"
        ],
        "id": "QpjiGgWa0JQd",
        "colab_type": "text"
      },
      "source": [
        "**Inline Question 1**\n",
        "\n",
        "Why do we expect our loss to be close to -log(0.1)? Explain briefly.**\n",
        "\n",
        "$\\color{blue}{\\textit Your Answer:}$ *As we are not performing a learning process and just calculating the softmax based on some initial random weights, we expect that the initial loss has to be close to -log(0.1) because initially all the classes are equally likely to be chosen. In CIFAR-10 we have 10 classes, thus probability of the correct class will be 0.1 and the softmax loss is the negative log probability of the correct class, therefore it is -log(0.1).* \n",
        "\n"
      ]
    },
    {
      "cell_type": "code",
      "metadata": {
        "id": "QAKIwWkd0JQe",
        "colab_type": "code",
        "colab": {
          "base_uri": "https://localhost:8080/",
          "height": 353
        },
        "outputId": "f37201fd-b37b-411c-f0b4-fb59ca6dbf82"
      },
      "source": [
        "# Complete the implementation of softmax_loss_naive and implement a (naive)\n",
        "# version of the gradient that uses nested loops.\n",
        "loss, grad = softmax_loss_naive(W, X_dev, y_dev, 0.0)\n",
        "\n",
        "# As we did for the SVM, use numeric gradient checking as a debugging tool.\n",
        "# The numeric gradient should be close to the analytic gradient.\n",
        "from cs231n.gradient_check import grad_check_sparse\n",
        "f = lambda w: softmax_loss_naive(w, X_dev, y_dev, 0.0)[0]\n",
        "grad_numerical = grad_check_sparse(f, W, grad, 10)\n",
        "\n",
        "# similar to SVM case, do another gradient check with regularization\n",
        "loss, grad = softmax_loss_naive(W, X_dev, y_dev, 5e1)\n",
        "f = lambda w: softmax_loss_naive(w, X_dev, y_dev, 5e1)[0]\n",
        "grad_numerical = grad_check_sparse(f, W, grad, 10)"
      ],
      "execution_count": null,
      "outputs": [
        {
          "output_type": "stream",
          "text": [
            "numerical: 0.468760 analytic: 0.468760, relative error: 6.806443e-08\n",
            "numerical: 2.356590 analytic: 2.356589, relative error: 4.496761e-08\n",
            "numerical: 2.106662 analytic: 2.106662, relative error: 2.371435e-09\n",
            "numerical: 0.571000 analytic: 0.571000, relative error: 2.684332e-08\n",
            "numerical: -0.553947 analytic: -0.553947, relative error: 6.627166e-09\n",
            "numerical: -0.203460 analytic: -0.203460, relative error: 2.237856e-07\n",
            "numerical: 0.994647 analytic: 0.994647, relative error: 1.205822e-08\n",
            "numerical: 1.009517 analytic: 1.009517, relative error: 6.199935e-08\n",
            "numerical: -1.042657 analytic: -1.042658, relative error: 6.229476e-08\n",
            "numerical: -1.231553 analytic: -1.231553, relative error: 5.972697e-08\n",
            "numerical: -5.913959 analytic: -5.923871, relative error: 8.373565e-04\n",
            "numerical: -0.295344 analytic: -0.300087, relative error: 7.966105e-03\n",
            "numerical: 1.109528 analytic: 1.113343, relative error: 1.716495e-03\n",
            "numerical: 0.289826 analytic: 0.295465, relative error: 9.634824e-03\n",
            "numerical: 1.829042 analytic: 1.836852, relative error: 2.130525e-03\n",
            "numerical: -1.834947 analytic: -1.826387, relative error: 2.337967e-03\n",
            "numerical: 0.241447 analytic: 0.237608, relative error: 8.013837e-03\n",
            "numerical: -0.408248 analytic: -0.409284, relative error: 1.268042e-03\n",
            "numerical: 1.855223 analytic: 1.845741, relative error: 2.562023e-03\n",
            "numerical: -0.794935 analytic: -0.797100, relative error: 1.359645e-03\n"
          ],
          "name": "stdout"
        }
      ]
    },
    {
      "cell_type": "code",
      "metadata": {
        "id": "-_Vry_Oj0JQi",
        "colab_type": "code",
        "colab": {
          "base_uri": "https://localhost:8080/",
          "height": 84
        },
        "outputId": "bf7ae787-aadd-4dc7-d329-ad60fecac236"
      },
      "source": [
        "# Now that we have a naive implementation of the softmax loss function and its gradient,\n",
        "# implement a vectorized version in softmax_loss_vectorized.\n",
        "# The two versions should compute the same results, but the vectorized version should be\n",
        "# much faster.\n",
        "tic = time.time()\n",
        "loss_naive, grad_naive = softmax_loss_naive(W, X_dev, y_dev, 0.000005)\n",
        "toc = time.time()\n",
        "print('naive loss: %e computed in %fs' % (loss_naive, toc - tic))\n",
        "\n",
        "from cs231n.classifiers.softmax import softmax_loss_vectorized\n",
        "tic = time.time()\n",
        "loss_vectorized, grad_vectorized = softmax_loss_vectorized(W, X_dev, y_dev, 0.000005)\n",
        "toc = time.time()\n",
        "print('vectorized loss: %e computed in %fs' % (loss_vectorized, toc - tic))\n",
        "\n",
        "# As we did for the SVM, we use the Frobenius norm to compare the two versions\n",
        "# of the gradient.\n",
        "grad_difference = np.linalg.norm(grad_naive - grad_vectorized, ord='fro')\n",
        "print('Loss difference: %f' % np.abs(loss_naive - loss_vectorized))\n",
        "print('Gradient difference: %f' % grad_difference)"
      ],
      "execution_count": null,
      "outputs": [
        {
          "output_type": "stream",
          "text": [
            "naive loss: 2.323282e+00 computed in 0.264704s\n",
            "vectorized loss: 2.323282e+00 computed in 0.021321s\n",
            "Loss difference: 0.000000\n",
            "Gradient difference: 0.000000\n"
          ],
          "name": "stdout"
        }
      ]
    },
    {
      "cell_type": "code",
      "metadata": {
        "id": "tuning",
        "tags": [
          "code"
        ],
        "colab_type": "code",
        "colab": {
          "base_uri": "https://localhost:8080/",
          "height": 1000
        },
        "outputId": "dd4c73db-5817-4cb0-beac-5eefc69794b3"
      },
      "source": [
        "# Use the validation set to tune hyperparameters (regularization strength and\n",
        "# learning rate). You should experiment with different ranges for the learning\n",
        "# rates and regularization strengths; if you are careful you should be able to\n",
        "# get a classification accuracy of over 0.35 on the validation set.\n",
        "from copy import deepcopy\n",
        "from cs231n.classifiers import Softmax\n",
        "results = {}\n",
        "best_val = -1\n",
        "best_softmax = None\n",
        "iters=3000\n",
        "batch_size=100\n",
        "################################################################################\n",
        "# TODO:                                                                        #\n",
        "# Use the validation set to set the learning rate and regularization strength. #\n",
        "# This should be identical to the validation that you did for the SVM; save    #\n",
        "# the best trained softmax classifer in best_softmax.                          #\n",
        "################################################################################\n",
        "\n",
        "# Provided as a reference. You may or may not want to change these hyperparameters\n",
        "learning_rates = [1e-7, 5e-7]\n",
        "regularization_strengths = [2.5e4, 5e4]\n",
        "\n",
        "# *****START OF YOUR CODE (DO NOT DELETE/MODIFY THIS LINE)*****\n",
        "\n",
        "for lr in learning_rates:\n",
        "  for reg in regularization_strengths:\n",
        "    sft=Softmax()\n",
        "    softmax_hist = sft.train(X_train, y_train, learning_rate=lr, reg= reg,num_iters=iters,batch_size=batch_size, verbose=True)\n",
        "\n",
        "    y_train_pred = sft.predict(X_train)\n",
        "    y_val_pred = sft.predict(X_val)\n",
        "\n",
        "    train_acc = np.mean(y_train == y_train_pred)\n",
        "    val_acc = np.mean(y_val == y_val_pred)\n",
        "\n",
        "    results[(lr,reg)]=(train_acc, val_acc)\n",
        "\n",
        "    if best_val< val_acc:\n",
        "      best_val=val_acc\n",
        "      best_softmax=deepcopy(sft)\n",
        "\n",
        "\n",
        "# *****END OF YOUR CODE (DO NOT DELETE/MODIFY THIS LINE)*****\n",
        "    \n",
        "# Print out results.\n",
        "for lr, reg in sorted(results):\n",
        "    train_accuracy, val_accuracy = results[(lr, reg)]\n",
        "    print('lr %e reg %e train accuracy: %f val accuracy: %f' % (\n",
        "                lr, reg, train_accuracy, val_accuracy))\n",
        "    \n",
        "print('best validation accuracy achieved during cross-validation: %f' % best_val)"
      ],
      "execution_count": null,
      "outputs": [
        {
          "output_type": "stream",
          "text": [
            "iteration 0 / 3000: loss 42.983318\n",
            "iteration 100 / 3000: loss 26.614021\n",
            "iteration 200 / 3000: loss 17.032905\n",
            "iteration 300 / 3000: loss 11.037850\n",
            "iteration 400 / 3000: loss 7.268462\n",
            "iteration 500 / 3000: loss 5.163726\n",
            "iteration 600 / 3000: loss 3.998514\n",
            "iteration 700 / 3000: loss 3.113358\n",
            "iteration 800 / 3000: loss 2.664529\n",
            "iteration 900 / 3000: loss 2.355879\n",
            "iteration 1000 / 3000: loss 2.237444\n",
            "iteration 1100 / 3000: loss 2.070597\n",
            "iteration 1200 / 3000: loss 1.906494\n",
            "iteration 1300 / 3000: loss 1.969250\n",
            "iteration 1400 / 3000: loss 2.046350\n",
            "iteration 1500 / 3000: loss 1.955049\n",
            "iteration 1600 / 3000: loss 1.862349\n",
            "iteration 1700 / 3000: loss 1.949043\n",
            "iteration 1800 / 3000: loss 1.914952\n",
            "iteration 1900 / 3000: loss 1.978874\n",
            "iteration 2000 / 3000: loss 1.977469\n",
            "iteration 2100 / 3000: loss 2.015597\n",
            "iteration 2200 / 3000: loss 1.977432\n",
            "iteration 2300 / 3000: loss 1.916328\n",
            "iteration 2400 / 3000: loss 1.962644\n",
            "iteration 2500 / 3000: loss 1.942343\n",
            "iteration 2600 / 3000: loss 1.858862\n",
            "iteration 2700 / 3000: loss 1.926739\n",
            "iteration 2800 / 3000: loss 2.089298\n",
            "iteration 2900 / 3000: loss 1.929775\n",
            "iteration 0 / 3000: loss 81.862145\n",
            "iteration 100 / 3000: loss 30.828077\n",
            "iteration 200 / 3000: loss 12.612009\n",
            "iteration 300 / 3000: loss 5.762007\n",
            "iteration 400 / 3000: loss 3.452593\n",
            "iteration 500 / 3000: loss 2.498983\n",
            "iteration 600 / 3000: loss 2.151038\n",
            "iteration 700 / 3000: loss 2.124942\n",
            "iteration 800 / 3000: loss 2.093884\n",
            "iteration 900 / 3000: loss 1.978743\n",
            "iteration 1000 / 3000: loss 1.944613\n",
            "iteration 1100 / 3000: loss 2.034308\n",
            "iteration 1200 / 3000: loss 1.972682\n",
            "iteration 1300 / 3000: loss 2.004425\n",
            "iteration 1400 / 3000: loss 2.019768\n",
            "iteration 1500 / 3000: loss 1.929901\n",
            "iteration 1600 / 3000: loss 2.067166\n",
            "iteration 1700 / 3000: loss 1.965965\n",
            "iteration 1800 / 3000: loss 2.017338\n",
            "iteration 1900 / 3000: loss 2.018195\n",
            "iteration 2000 / 3000: loss 1.907190\n",
            "iteration 2100 / 3000: loss 1.989016\n",
            "iteration 2200 / 3000: loss 1.890484\n",
            "iteration 2300 / 3000: loss 2.018285\n",
            "iteration 2400 / 3000: loss 1.966918\n",
            "iteration 2500 / 3000: loss 1.993043\n",
            "iteration 2600 / 3000: loss 2.041221\n",
            "iteration 2700 / 3000: loss 1.963602\n",
            "iteration 2800 / 3000: loss 1.885195\n",
            "iteration 2900 / 3000: loss 1.988744\n",
            "iteration 0 / 3000: loss 44.346871\n",
            "iteration 100 / 3000: loss 5.166810\n",
            "iteration 200 / 3000: loss 2.183255\n",
            "iteration 300 / 3000: loss 2.017914\n",
            "iteration 400 / 3000: loss 1.911631\n",
            "iteration 500 / 3000: loss 1.954615\n",
            "iteration 600 / 3000: loss 2.060870\n",
            "iteration 700 / 3000: loss 1.954697\n",
            "iteration 800 / 3000: loss 1.987480\n",
            "iteration 900 / 3000: loss 1.873837\n",
            "iteration 1000 / 3000: loss 1.892656\n",
            "iteration 1100 / 3000: loss 1.994617\n",
            "iteration 1200 / 3000: loss 1.912095\n",
            "iteration 1300 / 3000: loss 2.027769\n",
            "iteration 1400 / 3000: loss 1.940525\n",
            "iteration 1500 / 3000: loss 2.022983\n",
            "iteration 1600 / 3000: loss 1.891369\n",
            "iteration 1700 / 3000: loss 1.917530\n",
            "iteration 1800 / 3000: loss 1.836205\n",
            "iteration 1900 / 3000: loss 1.871233\n",
            "iteration 2000 / 3000: loss 1.879352\n",
            "iteration 2100 / 3000: loss 1.942845\n",
            "iteration 2200 / 3000: loss 1.961117\n",
            "iteration 2300 / 3000: loss 1.915633\n",
            "iteration 2400 / 3000: loss 1.895231\n",
            "iteration 2500 / 3000: loss 2.002949\n",
            "iteration 2600 / 3000: loss 1.928945\n",
            "iteration 2700 / 3000: loss 1.903789\n",
            "iteration 2800 / 3000: loss 1.898876\n",
            "iteration 2900 / 3000: loss 1.814124\n",
            "iteration 0 / 3000: loss 83.351945\n",
            "iteration 100 / 3000: loss 2.469452\n",
            "iteration 200 / 3000: loss 1.938916\n",
            "iteration 300 / 3000: loss 2.016059\n",
            "iteration 400 / 3000: loss 2.025973\n",
            "iteration 500 / 3000: loss 1.929043\n",
            "iteration 600 / 3000: loss 2.082943\n",
            "iteration 700 / 3000: loss 2.019366\n",
            "iteration 800 / 3000: loss 2.014175\n",
            "iteration 900 / 3000: loss 2.038641\n",
            "iteration 1000 / 3000: loss 2.015098\n",
            "iteration 1100 / 3000: loss 1.974137\n",
            "iteration 1200 / 3000: loss 2.005174\n",
            "iteration 1300 / 3000: loss 2.002155\n",
            "iteration 1400 / 3000: loss 2.036776\n",
            "iteration 1500 / 3000: loss 2.037231\n",
            "iteration 1600 / 3000: loss 2.055235\n",
            "iteration 1700 / 3000: loss 1.981507\n",
            "iteration 1800 / 3000: loss 2.014581\n",
            "iteration 1900 / 3000: loss 2.040655\n",
            "iteration 2000 / 3000: loss 2.036534\n",
            "iteration 2100 / 3000: loss 2.082635\n",
            "iteration 2200 / 3000: loss 2.056646\n",
            "iteration 2300 / 3000: loss 2.066234\n",
            "iteration 2400 / 3000: loss 1.926350\n",
            "iteration 2500 / 3000: loss 1.978812\n",
            "iteration 2600 / 3000: loss 2.028377\n",
            "iteration 2700 / 3000: loss 2.081642\n",
            "iteration 2800 / 3000: loss 2.026516\n",
            "iteration 2900 / 3000: loss 2.011760\n",
            "lr 1.000000e-07 reg 2.500000e+04 train accuracy: 0.350367 val accuracy: 0.354000\n",
            "lr 1.000000e-07 reg 5.000000e+04 train accuracy: 0.335735 val accuracy: 0.346000\n",
            "lr 5.000000e-07 reg 2.500000e+04 train accuracy: 0.343510 val accuracy: 0.356000\n",
            "lr 5.000000e-07 reg 5.000000e+04 train accuracy: 0.314469 val accuracy: 0.329000\n",
            "best validation accuracy achieved during cross-validation: 0.356000\n"
          ],
          "name": "stdout"
        }
      ]
    },
    {
      "cell_type": "code",
      "metadata": {
        "id": "test",
        "colab_type": "code",
        "colab": {
          "base_uri": "https://localhost:8080/",
          "height": 34
        },
        "outputId": "9d1c0bfc-7444-4f3b-82b3-d35fbddc33d5"
      },
      "source": [
        "# evaluate on test set\n",
        "# Evaluate the best softmax on test set\n",
        "y_test_pred = best_softmax.predict(X_test)\n",
        "test_accuracy = np.mean(y_test == y_test_pred)\n",
        "print('softmax on raw pixels final test set accuracy: %f' % (test_accuracy, ))"
      ],
      "execution_count": null,
      "outputs": [
        {
          "output_type": "stream",
          "text": [
            "softmax on raw pixels final test set accuracy: 0.361000\n"
          ],
          "name": "stdout"
        }
      ]
    },
    {
      "cell_type": "markdown",
      "metadata": {
        "tags": [
          "pdf-inline"
        ],
        "id": "eo5G4hpG0JQs",
        "colab_type": "text"
      },
      "source": [
        "**Inline Question 2** - *True or False*\n",
        "\n",
        "Suppose the overall training loss is defined as the sum of the per-datapoint loss over all training examples. It is possible to add a new datapoint to a training set that would leave the SVM loss unchanged, but this is not the case with the Softmax classifier loss.\n",
        "\n",
        "$\\color{blue}{\\textit Your Answer:}$ *True*\n",
        "\n",
        "\n",
        "$\\color{blue}{\\textit Your Explanation:}$* Let's assume that we add a new datapoint that leads to scores [10,8,7], also that the margin for SVM is 2 and the correct class is 1, then the SVM loss of this datapoint will be 0 because it satisfies the margin, i.e., max(0, 8 + 2 - 10) + max(0, 7 + 2 - 10) = 0. Thus, the loss remains unchanged. However, it is not the case for Softmax classifier where the loss will increase, i.e., -log(softmax(10)) = -log(0.84) = 0.17. This occurs because the SVM loss is local objective, that is, it does not care about the details of individual scores only the margin has to be satisfied. On the other hand, the Softmax classifier considers all the individual scores in the calculation of the loss.*\n",
        "\n"
      ]
    },
    {
      "cell_type": "code",
      "metadata": {
        "id": "2qLWiUE40JQt",
        "colab_type": "code",
        "colab": {
          "base_uri": "https://localhost:8080/",
          "height": 380
        },
        "outputId": "90533bc6-7fb3-42e8-8ec6-ef0d796d226d"
      },
      "source": [
        "# Visualize the learned weights for each class\n",
        "w = best_softmax.W[:-1,:] # strip out the bias\n",
        "w = w.reshape(32, 32, 3, 10)\n",
        "\n",
        "w_min, w_max = np.min(w), np.max(w)\n",
        "\n",
        "classes = ['plane', 'car', 'bird', 'cat', 'deer', 'dog', 'frog', 'horse', 'ship', 'truck']\n",
        "for i in range(10):\n",
        "    plt.subplot(2, 5, i + 1)\n",
        "    \n",
        "    # Rescale the weights to be between 0 and 255\n",
        "    wimg = 255.0 * (w[:, :, :, i].squeeze() - w_min) / (w_max - w_min)\n",
        "    plt.imshow(wimg.astype('uint8'))\n",
        "    plt.axis('off')\n",
        "    plt.title(classes[i])"
      ],
      "execution_count": null,
      "outputs": [
        {
          "output_type": "display_data",
          "data": {
            "image/png": "[encoded data removed]",
            "text/plain": [
              "<Figure size 720x576 with 10 Axes>"
            ]
          },
          "metadata": {
            "tags": [],
            "needs_background": "light"
          }
        }
      ]
    },
    {
      "cell_type": "code",
      "metadata": {
        "id": "lL5lUe5k0JQv",
        "colab_type": "code",
        "colab": {}
      },
      "source": [
        ""
      ],
      "execution_count": null,
      "outputs": []
    }
  ]
}